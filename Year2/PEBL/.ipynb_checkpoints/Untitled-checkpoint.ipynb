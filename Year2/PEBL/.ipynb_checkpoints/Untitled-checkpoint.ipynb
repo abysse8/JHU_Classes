{
 "cells": [
  {
   "cell_type": "markdown",
   "id": "cd378665-3611-4d31-ae05-35d0c7db3d95",
   "metadata": {},
   "source": [
    "The main objective for this experiment is to assess the ______ and ______ of my pipetting skills. To do this, I will calculate the standard deviation and ______ of my pipetting. I expect my values to show that my pipetting skills are perfect because I have pipetted a lot before."
   ]
  },
  {
   "cell_type": "markdown",
   "id": "e1d7f8ad-ed20-4950-a6c2-0e3ba15f3467",
   "metadata": {},
   "source": [
    "First, the masses of 6 microcentrifuge tubes were recorded. Then with a P-1000, 1000 uL of water was pipetted into each sample tube and the masses were recorded again.  The _______ was converted into a ________ using the specific density ( _____ g/mL). Using the same tubes and a P-200, 200 uL of water was pipetted into each tube and the masses were recorded again. The same conversions were done with these new measurements. "
   ]
  },
  {
   "cell_type": "code",
   "execution_count": 19,
   "id": "4455acf3-c913-4c3d-aa51-0694b2a6c44c",
   "metadata": {
    "tags": []
   },
   "outputs": [
    {
     "data": {
      "text/plain": [
       "[0.9892, 0.9923000000000001, 0.9906000000000001, 0.9816, 1.0212]"
      ]
     },
     "execution_count": 19,
     "metadata": {},
     "output_type": "execute_result"
    }
   ],
   "source": [
    "pipette_masses = [.8944, .8802, .8895, .8815, .8812, .8949]\n",
    "pipette_masses1000 = [1.8836, 1.8725, 1.8801, 1.8631, 1.9024]\n",
    "water_masses1000 = [pipette_masses1000[i]-pipette_masses[i] for i in range(5)]\n",
    "water_masses1000"
   ]
  },
  {
   "cell_type": "code",
   "execution_count": 20,
   "id": "8d4688c5-a73b-493c-9027-3fed5729339a",
   "metadata": {
    "tags": []
   },
   "outputs": [
    {
     "data": {
      "text/plain": [
       "[0.19509999999999994,\n",
       " 0.18519999999999992,\n",
       " 0.18320000000000003,\n",
       " 0.18500000000000005,\n",
       " 0.18079999999999996]"
      ]
     },
     "execution_count": 20,
     "metadata": {},
     "output_type": "execute_result"
    }
   ],
   "source": [
    "pipette_masses2 = [.9789, .9930, 1.1021, 1.0365, .9727, .9752]\n",
    "pipette_masses200 = [1.1740, 1.1782, 1.2853, 1.2215, 1.1535, 1.1721]\n",
    "water_masses200 = [pipette_masses200[i]-pipette_masses2[i] for i in range(5)]\n",
    "water_masses200"
   ]
  },
  {
   "cell_type": "code",
   "execution_count": 12,
   "id": "4377442c-941e-4c3d-8175-b207d545e7c6",
   "metadata": {
    "tags": []
   },
   "outputs": [
    {
     "data": {
      "text/plain": [
       "0.022059999999999746"
      ]
     },
     "execution_count": 12,
     "metadata": {},
     "output_type": "execute_result"
    }
   ],
   "source": [
    "avg = sum(pipette_masses1000)/len(pipette_masses1000)\n",
    "distance = max([abs(item-avg) for item in pipette_masses1000])\n",
    "distance"
   ]
  },
  {
   "cell_type": "markdown",
   "id": "b9b58800-e736-46fc-9845-2b0fe660c71a",
   "metadata": {},
   "source": [
    "Based on the data in the attached file ( file-name-here.xlsx ), the average volume of my pipetting trials with a P-1000 was ______ which has a standard deviation of _______ and a ______ % error.  The average volume of my pipetting trials with a P-200 was ______ which has a standard deviation of _______ and a ______ % error. "
   ]
  },
  {
   "cell_type": "markdown",
   "id": "3166f4a5-32d7-46b1-afd9-51f8a118585a",
   "metadata": {},
   "source": [
    "I definitely achieved my goals for this lab. I was concerned that my pipette was making a clicking sound, but it did not seem to affect my results. My pipetting skills with both the P-1000 and P-200 were extremely accurate and precise because the standard deviation and percent error were very low (0.000 uL and 0.0 %). This makes sense because even though there was a lot of pipetting, my pipetting skills I have perfected over the last 50 years did not add any appreciable error to my experiment and also because I am making this up completely as an example."
   ]
  }
 ],
 "metadata": {
  "kernelspec": {
   "display_name": "Python 3 (ipykernel)",
   "language": "python",
   "name": "python3"
  },
  "language_info": {
   "codemirror_mode": {
    "name": "ipython",
    "version": 3
   },
   "file_extension": ".py",
   "mimetype": "text/x-python",
   "name": "python",
   "nbconvert_exporter": "python",
   "pygments_lexer": "ipython3",
   "version": "3.10.12"
  }
 },
 "nbformat": 4,
 "nbformat_minor": 5
}
